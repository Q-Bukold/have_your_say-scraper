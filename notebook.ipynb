{
 "cells": [
  {
   "cell_type": "markdown",
   "metadata": {},
   "source": [
    "# Setup"
   ]
  },
  {
   "cell_type": "code",
   "execution_count": null,
   "metadata": {},
   "outputs": [],
   "source": [
    "# Scripts are written for Python 3.9.6\n",
    "%pip install -r requirements.txt\n",
    "\n",
    "## please also:\n",
    "'''\n",
    "1. Change the Request-Header main/src/hys_portal_scraper.py#L27 to your own E-Mail Address\n",
    "2. Make sure you set a wait-time above 10 sec\n",
    "3. Create a MySQL-Database and specify its configs in: main/src/database/database_connection.py#L1\n",
    "\n",
    "\n",
    "'''"
   ]
  },
  {
   "cell_type": "code",
   "execution_count": null,
   "metadata": {},
   "outputs": [],
   "source": [
    "# Setup\n",
    "from src.hys_portal_scraper import Portal_Scraper\n",
    "from src.scrapers.initiative_scraper import Initiative_Scraper\n",
    "from src.scrapers.feedback_scraper import Feedback_Scraper\n",
    "from src.scrapers.attachment_scraper import Attachment_Scraper\n",
    "\n",
    "from src.database.seedlist_handler import SeedList_Handler\n",
    "\n",
    "from src.database.database_connection import database_connection\n",
    "%load_ext autoreload\n",
    "%autoreload 2\n",
    "\n"
   ]
  },
  {
   "cell_type": "markdown",
   "metadata": {},
   "source": [
    "# Initalize Database\n",
    "Database structure is defined in src/database/database_connection.py"
   ]
  },
  {
   "cell_type": "code",
   "execution_count": null,
   "metadata": {},
   "outputs": [],
   "source": [
    "# Only run once. Code creates new Database.\n",
    "con = database_connection()\n",
    "Portal_Scraper(con).init_database_session(create_db=True)"
   ]
  },
  {
   "cell_type": "markdown",
   "metadata": {},
   "source": [
    "# Upsert Seedlist to Database\n",
    "Seedlist is a .txt document with one URL per line. The URL points to the initatives homepage, like <br> \"https://ec.europa.eu/info/law/better-regulation/have-your-say/initiatives/1362-Access-to-Social-Protection_en\""
   ]
  },
  {
   "cell_type": "code",
   "execution_count": null,
   "metadata": {},
   "outputs": [],
   "source": [
    "# create Table named Seedlist and fill with initiative_id and more.\n",
    "con = database_connection()\n",
    "SeedList_Handler(connection=con).insert_seedlist(\"data/seedlist_manual_all_140424_additional-Inis.txt\")"
   ]
  },
  {
   "cell_type": "markdown",
   "metadata": {},
   "source": [
    "# Scrape Initiatives and Stage Metadata\n",
    "Input are all Initative IDs that, according to seedlist are not scraped yet."
   ]
  },
  {
   "cell_type": "code",
   "execution_count": null,
   "metadata": {},
   "outputs": [],
   "source": [
    "'''\n",
    "1. Scrape all initatives where `initiative_updated` is Null in Seedlist Table\n",
    "2. Upsert initative metadata in Initatives Table\n",
    "3. Upsert stage metadata in Stages Table\n",
    "4. Update 'initiative_updated' in Seedlist with current (GMT) time\n",
    "'''\n",
    "\n",
    "con = database_connection()\n",
    "\n",
    "Initiative_Scraper(connection=con, wait_time=10).scrape_all() # wait_time = time between requests"
   ]
  },
  {
   "cell_type": "code",
   "execution_count": null,
   "metadata": {},
   "outputs": [],
   "source": [
    "## display stages in DB by Published Date\n",
    "import pandas as pd\n",
    "import matplotlib.pyplot as plt\n",
    "from sqlalchemy import create_engine\n",
    "from src.database.database_connection import database_connection\n",
    "\n",
    "engine = create_engine(database_connection(), echo=False, echo_pool=False)\n",
    "\n",
    "stage_dates_published = pd.read_sql(\"SELECT published_date FROM stages\", engine)\n",
    "\n",
    "stage_dates_published = stage_dates_published.value_counts(\"published_date\")\n",
    "stage_dates_published = stage_dates_published.sort_index(ascending=True)\n",
    "\n",
    "stage_dates_published = stage_dates_published.resample('M').agg(\"count\")\n",
    "\n",
    "plt.plot(stage_dates_published.index, stage_dates_published.values)\n",
    "plt.xticks(rotation='vertical')\n",
    "plt.show()"
   ]
  },
  {
   "cell_type": "markdown",
   "metadata": {},
   "source": [
    "# Scrape Feedbacks and Attachment-Metadata"
   ]
  },
  {
   "cell_type": "code",
   "execution_count": null,
   "metadata": {},
   "outputs": [],
   "source": [
    "'''\n",
    "1. Scrape all Stages where `feedback_updated` is Null in Stages Table\n",
    "2. Upsert feedbacks to Feedbacks Table\n",
    "3. Upsert attachment metadata to Attachments Table\n",
    "4. Update 'feedback_updated' in Stages Table with current time\n",
    "'''\n",
    "\n",
    "con = database_connection()\n",
    "Feedback_Scraper(connection=con, wait_time=10).scrape_all() # wait_time = time between requests"
   ]
  },
  {
   "cell_type": "markdown",
   "metadata": {},
   "source": [
    "### Scrape Specific Stages"
   ]
  },
  {
   "cell_type": "code",
   "execution_count": 3,
   "metadata": {},
   "outputs": [
    {
     "name": "stderr",
     "output_type": "stream",
     "text": [
      "logging     : INFO     Scraping Stage: 31234550\n",
      "logging     : INFO     ETA of Stage-Data 02:16:30\n",
      "logging     : INFO     Scraped Page 111/819\n",
      "logging     : INFO     Scraped Page 112/819\n",
      "logging     : INFO     Scraped Page 113/819\n",
      "logging     : INFO     Scraped Page 114/819\n",
      "logging     : INFO     Scraped Page 115/819\n",
      "logging     : INFO     Scraped Page 116/819\n",
      "logging     : INFO     Scraped Page 117/819\n",
      "logging     : INFO     Scraped Page 118/819\n"
     ]
    }
   ],
   "source": [
    "con = database_connection()\n",
    "stage_id_queue = [31234550, 7929317, 26519622, 32232670, 25987338, 32438558]\n",
    "\n",
    "Feedback_Scraper(connection=con, stage_id=\"31234550\", wait_time=10).scrape_feedback() # wait_time = time between requests\n"
   ]
  },
  {
   "cell_type": "markdown",
   "metadata": {},
   "source": [
    "# Scrape Attachments"
   ]
  },
  {
   "cell_type": "code",
   "execution_count": null,
   "metadata": {},
   "outputs": [],
   "source": [
    "con = database_connection()\n",
    "Attachment_Scraper(con, 5).scrape_all()"
   ]
  }
 ],
 "metadata": {
  "kernelspec": {
   "display_name": "hysScraper",
   "language": "python",
   "name": "hysscraper"
  },
  "language_info": {
   "codemirror_mode": {
    "name": "ipython",
    "version": 3
   },
   "file_extension": ".py",
   "mimetype": "text/x-python",
   "name": "python",
   "nbconvert_exporter": "python",
   "pygments_lexer": "ipython3",
   "version": "3.10.12"
  }
 },
 "nbformat": 4,
 "nbformat_minor": 2
}
