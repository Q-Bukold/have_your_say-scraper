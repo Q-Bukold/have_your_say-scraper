{
 "cells": [
  {
   "cell_type": "code",
   "execution_count": 4,
   "metadata": {},
   "outputs": [
    {
     "data": {
      "text/plain": [
       "'1111-01-01 01:01:01'"
      ]
     },
     "execution_count": 4,
     "metadata": {},
     "output_type": "execute_result"
    }
   ],
   "source": [
    "from time import gmtime, strftime\n",
    "import time\n",
    "import datetime\n",
    "from sqlalchemy import update\n",
    "from sqlalchemy.orm import sessionmaker\n",
    "from sqlalchemy import create_engine\n",
    "from sqlalchemy import update\n",
    "\n",
    "\n",
    "\n",
    "from database_connection import database_connection as con\n",
    "from database_structure import Stages\n",
    "\n",
    "\n",
    "# update datetime in stages table\n",
    "def update_seedlist_feedback_scrape(stage_id):\n",
    "    global sess\n",
    "    d = datetime.datetime(1111, 1, 1, 1, 1, 1) \n",
    "    current_time = d.strftime(\"%Y-%m-%d %H:%M:%S\")\n",
    "    #current_time = strftime(\"%Y-%m-%d %H:%M:%S\", gmtime())\n",
    "    \n",
    "    update_stmt = update(Stages).where(Stages.stage_id == stage_id).values(feedback_updated=current_time)\n",
    "    sess.execute(update_stmt)\n",
    "\n",
    "global sess\n",
    "conn_new = create_engine(con(), echo=False, echo_pool=False)\n",
    "Session = sessionmaker(bind=conn_new)\n",
    "session = Session()\n",
    "global s\n",
    "with session as s:\n",
    "    update_seedlist_feedback_scrape()\n",
    "\n"
   ]
  },
  {
   "cell_type": "code",
   "execution_count": 14,
   "metadata": {},
   "outputs": [
    {
     "name": "stdout",
     "output_type": "stream",
     "text": [
      "--------------------\n",
      "0\n",
      "1\n",
      "2\n",
      "3\n",
      "4\n",
      "5\n",
      "6\n",
      "7\n",
      "8\n",
      "9\n"
     ]
    }
   ],
   "source": [
    "for i in range(12, 10):\n",
    "    print(i)\n",
    "\n",
    "print(20*\"-\")\n",
    "for i in range(10):\n",
    "    print(i)"
   ]
  },
  {
   "cell_type": "code",
   "execution_count": 32,
   "metadata": {},
   "outputs": [
    {
     "data": {
      "text/plain": [
       "5.0"
      ]
     },
     "execution_count": 32,
     "metadata": {},
     "output_type": "execute_result"
    }
   ],
   "source": [
    "import time\n",
    "(time.mktime(gmtime())  -  (time.mktime(gmtime())-5))\n",
    "\n",
    "#- time.localtime()"
   ]
  }
 ],
 "metadata": {
  "kernelspec": {
   "display_name": ".venv",
   "language": "python",
   "name": "python3"
  },
  "language_info": {
   "codemirror_mode": {
    "name": "ipython",
    "version": 3
   },
   "file_extension": ".py",
   "mimetype": "text/x-python",
   "name": "python",
   "nbconvert_exporter": "python",
   "pygments_lexer": "ipython3",
   "version": "3.9.6"
  }
 },
 "nbformat": 4,
 "nbformat_minor": 2
}
