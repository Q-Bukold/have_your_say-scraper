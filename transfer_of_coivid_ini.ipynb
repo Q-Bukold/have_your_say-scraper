{
 "cells": [
  {
   "cell_type": "code",
   "execution_count": null,
   "metadata": {},
   "outputs": [],
   "source": []
  },
  {
   "cell_type": "code",
   "execution_count": 3,
   "metadata": {},
   "outputs": [
    {
     "name": "stderr",
     "output_type": "stream",
     "text": [
      "Exception ignored in: <bound method IPythonKernel._clean_thread_parent_frames of <ipykernel.ipkernel.IPythonKernel object at 0x1062d4340>>\n",
      "Traceback (most recent call last):\n",
      "  File \"/Users/qbukold/Developer/GitHub/Portal_Scraper/.venv/lib/python3.9/site-packages/ipykernel/ipkernel.py\", line 775, in _clean_thread_parent_frames\n",
      "    def _clean_thread_parent_frames(\n",
      "KeyboardInterrupt: \n"
     ]
    }
   ],
   "source": [
    "import pickle\n",
    "from sqlalchemy.orm import sessionmaker\n",
    "from sqlalchemy import create_engine\n",
    "\n",
    "from src.database.database_connection import database_connection\n",
    "from src.hys_portal_scraper import Portal_Scraper\n",
    "from src.scrapers.hys_scraper import HYS_Scraper\n",
    "from src.scrapers.feedback_scraper import Feedback_Scraper\n",
    "\n",
    "\n",
    "def scrape_from_jsonBackup(filepath : str):\n",
    "    with open(filepath, 'rb') as f:\n",
    "        feedbacks = pickle.load(f)\n",
    "        pages = len(feedbacks)/10 #to get from number of feedbacks to number of pages\n",
    "        pages = int(pages)\n",
    "    \n",
    "    return feedbacks, pages\n",
    "\n",
    "\n",
    "con = database_connection()\n",
    "path = \"feedback_backup-27926341.pkl\"\n",
    "stage_id = \"27926341\"\n",
    "hys = HYS_Scraper(publication_id=stage_id, sleep_time=10, header=None)\n",
    "fs = Feedback_Scraper(con, stage_id)\n",
    "feedbacks, pages = scrape_from_jsonBackup(path)\n",
    "\n"
   ]
  },
  {
   "cell_type": "code",
   "execution_count": 5,
   "metadata": {},
   "outputs": [
    {
     "name": "stdout",
     "output_type": "stream",
     "text": [
      "0\n",
      "3\n",
      "1\n",
      "3\n",
      "2\n",
      "3\n"
     ]
    }
   ],
   "source": [
    "lst = [1, 2, 3]\n",
    "\n",
    "for i, val in enumerate(lst):\n",
    "    print(i)\n",
    "    print(len(lst))"
   ]
  },
  {
   "cell_type": "code",
   "execution_count": 6,
   "metadata": {},
   "outputs": [
    {
     "name": "stdout",
     "output_type": "stream",
     "text": [
      "380000/385189\n",
      "385188/385189\n"
     ]
    }
   ],
   "source": [
    "conn_new = create_engine(database_connection(), echo=False,\n",
    "                         echo_pool=False, pool_recycle=1600,\n",
    "                         connect_args={'connect_timeout': 1600})\n",
    "\n",
    "Session = sessionmaker(bind=conn_new)\n",
    "session = Session()\n",
    "n = len(feedbacks)\n",
    "\n",
    "with session as s:\n",
    "    for i, feedback_dict in enumerate(feedbacks):\n",
    "        if i < 380000:\n",
    "            continue\n",
    "        else:\n",
    "            fs._upsert_feedbacks_to_database(feedback_dict, sess=s)\n",
    "            if i % 10000 == 0:\n",
    "                s.commit()\n",
    "                print(f\"{i}/{n}\")\n",
    "            elif i == n-1:\n",
    "                s.commit()\n",
    "                print(f\"{i}/{n}\")\n",
    "\n",
    "                "
   ]
  }
 ],
 "metadata": {
  "kernelspec": {
   "display_name": ".venv",
   "language": "python",
   "name": "python3"
  },
  "language_info": {
   "codemirror_mode": {
    "name": "ipython",
    "version": 3
   },
   "file_extension": ".py",
   "mimetype": "text/x-python",
   "name": "python",
   "nbconvert_exporter": "python",
   "pygments_lexer": "ipython3",
   "version": "3.9.6"
  }
 },
 "nbformat": 4,
 "nbformat_minor": 2
}
